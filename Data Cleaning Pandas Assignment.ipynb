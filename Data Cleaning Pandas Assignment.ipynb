{
 "cells": [
  {
   "cell_type": "markdown",
   "metadata": {},
   "source": [
    "1.Introduction\n",
    " This assignment will help you to consolidate the concepts learnt in the session."
   ]
  },
  {
   "cell_type": "code",
   "execution_count": 1,
   "metadata": {},
   "outputs": [],
   "source": [
    "# 2.Problem Statement\n",
    "# It happens all the time: someone gives you data containing malformed strings,\n",
    "# Python, lists and missing data. How do you tidy it up so you can get on with the\n",
    "# analysis?\n",
    "# Take this monstrosity as the DataFrame to use in the following puzzles:\n",
    "# df = pd.DataFrame({'From_To': ['LoNDon_paris', 'MAdrid_miLAN',\n",
    "# 'londON_StockhOlm',\n",
    "# 'Budapest_PaRis', 'Brussels_londOn'],\n",
    "# 'FlightNumber': [10045, np.nan, 10065, np.nan, 10085],\n",
    "# 'RecentDelays': [[23, 47], [], [24, 43, 87], [13], [67, 32]],\n",
    "# 'Airline': ['KLM(!)', '<Air France> (12)', '(British Airways. )',\n",
    "# '12. Air France', '\"Swiss Air\"']})"
   ]
  },
  {
   "cell_type": "code",
   "execution_count": 2,
   "metadata": {},
   "outputs": [],
   "source": [
    "import pandas as pd\n",
    "import numpy as np\n",
    "df = pd.DataFrame({'From_To': ['LoNDon_paris', 'MAdrid_miLAN',\n",
    " 'londON_StockhOlm', 'Budapest_PaRis', 'Brussels_londOn'],\n",
    " 'FlightNumber': [10045, np.nan, 10065, np.nan, 10085],\n",
    " 'RecentDelays': [[23, 47], [], [24, 43, 87], [13], [67, 32]],\n",
    " 'Airline': ['KLM(!)', '<Air France> (12)', '(British Airways. )',\n",
    " '12. Air France', '\"Swiss Air\"']})"
   ]
  },
  {
   "cell_type": "code",
   "execution_count": 3,
   "metadata": {},
   "outputs": [],
   "source": [
    "# 1. Some values in the the FlightNumber column are missing. These numbers are\n",
    "# meant to increase by 10 with each row so 10055 and 10075 need to be put in\n",
    "# place. Fill in these missing numbers and make the column an integer column\n",
    "# (instead of a float column)."
   ]
  },
  {
   "cell_type": "code",
   "execution_count": 4,
   "metadata": {},
   "outputs": [],
   "source": [
    "for i in range(len(df)):\n",
    "    if pd.isna(df['FlightNumber'][i]):\n",
    "        df.loc[i, 'FlightNumber'] = df.loc[i-1, 'FlightNumber'] + float(10)"
   ]
  },
  {
   "cell_type": "code",
   "execution_count": 5,
   "metadata": {},
   "outputs": [],
   "source": [
    "# 2. The From_To column would be better as two separate columns! Split each\n",
    "# string on the underscore delimiter _ to give a new temporary DataFrame with\n",
    "# the correct values. Assign the correct column names to this temporary\n",
    "# DataFrame"
   ]
  },
  {
   "cell_type": "code",
   "execution_count": 6,
   "metadata": {},
   "outputs": [],
   "source": [
    "df[['From', 'To']] = df.From_To.str.split('_', expand=True)\n",
    "df['FlightNumber'] = df['FlightNumber'].astype(int)"
   ]
  },
  {
   "cell_type": "code",
   "execution_count": 7,
   "metadata": {},
   "outputs": [],
   "source": [
    "# 3. Notice how the capitalisation of the city names is all mixed up in this\n",
    "# temporary DataFrame. Standardise the strings so that only the first letter is\n",
    "# uppercase (e.g. \"londON\" should become \"London\".)"
   ]
  },
  {
   "cell_type": "code",
   "execution_count": 8,
   "metadata": {},
   "outputs": [],
   "source": [
    "def camel_case(x):\n",
    "    return x[0].upper() + x[1:].lower()"
   ]
  },
  {
   "cell_type": "code",
   "execution_count": 9,
   "metadata": {},
   "outputs": [],
   "source": [
    "df['From'] = df['From'].apply(camel_case)\n",
    "df['To'] = df['To'].apply(camel_case)"
   ]
  },
  {
   "cell_type": "code",
   "execution_count": 10,
   "metadata": {},
   "outputs": [],
   "source": [
    "# 4. Delete the From_To column from df and attach the temporary DataFrame\n",
    "# from the previous questions."
   ]
  },
  {
   "cell_type": "code",
   "execution_count": 11,
   "metadata": {},
   "outputs": [],
   "source": [
    "df = df.drop(['From_To'], axis=1)"
   ]
  },
  {
   "cell_type": "code",
   "execution_count": 12,
   "metadata": {},
   "outputs": [],
   "source": [
    "# 5. In the RecentDelays column, the values have been entered into the\n",
    "# DataFrame as a list. We would like each first value in its own column, each\n",
    "# second value in its own column, and so on. If there isn't an Nth value, the value\n",
    "# should be NaN.\n",
    "# Expand the Series of lists into a DataFrame named delays, rename the columns\n",
    "# delay_1, delay_2, etc. and replace the unwanted RecentDelays column in df\n",
    "# with delays."
   ]
  },
  {
   "cell_type": "code",
   "execution_count": 13,
   "metadata": {},
   "outputs": [
    {
     "name": "stdout",
     "output_type": "stream",
     "text": [
      "   FlightNumber              Airline      From         To delay_0 delay_1  \\\n",
      "0         10045               KLM(!)    London      Paris      23      47   \n",
      "1         10055    <Air France> (12)    Madrid      Milan             NaN   \n",
      "2         10065  (British Airways. )    London  Stockholm      24      43   \n",
      "3         10075       12. Air France  Budapest      Paris      13     NaN   \n",
      "4         10085          \"Swiss Air\"  Brussels     London      67      32   \n",
      "\n",
      "  delay_2  \n",
      "0     NaN  \n",
      "1     NaN  \n",
      "2      87  \n",
      "3     NaN  \n",
      "4     NaN  \n"
     ]
    }
   ],
   "source": [
    "def joinlist(x):# converting list to string\n",
    "    seq = ''\n",
    "    for element in x:\n",
    "        seq = seq + str(element) +','\n",
    "    return seq.strip(',')\n",
    "\n",
    "\n",
    "df['RecentDelays'] = df['RecentDelays'].apply(joinlist)\n",
    "df = df.join(df['RecentDelays'].str.split(',', expand=True).add_prefix('delay_')).fillna(np.nan)# expanding the string\n",
    "df = df.drop('RecentDelays', axis=1)\n",
    "print(df)"
   ]
  },
  {
   "cell_type": "code",
   "execution_count": null,
   "metadata": {},
   "outputs": [],
   "source": []
  },
  {
   "cell_type": "code",
   "execution_count": null,
   "metadata": {},
   "outputs": [],
   "source": []
  }
 ],
 "metadata": {
  "kernelspec": {
   "display_name": "Python 3",
   "language": "python",
   "name": "python3"
  },
  "language_info": {
   "codemirror_mode": {
    "name": "ipython",
    "version": 3
   },
   "file_extension": ".py",
   "mimetype": "text/x-python",
   "name": "python",
   "nbconvert_exporter": "python",
   "pygments_lexer": "ipython3",
   "version": "3.7.1"
  }
 },
 "nbformat": 4,
 "nbformat_minor": 2
}
